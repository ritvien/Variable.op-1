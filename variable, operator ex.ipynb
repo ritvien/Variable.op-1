{
 "cells": [
  {
   "cell_type": "code",
   "execution_count": 31,
   "id": "2a31eaca",
   "metadata": {},
   "outputs": [],
   "source": [
    "#draw smile\n",
    "import turtle\n",
    "t= turtle.Turtle()\n",
    "t.pencolor(\"black\")\n",
    "t.pensize(2)\n",
    "t.fillcolor(\"gold\")\n",
    "t.begin_fill()\n",
    "t.circle(100)\n",
    "t.end_fill()\n",
    "t.penup()\n",
    "t.goto(-50,80)\n",
    "t.rt(90)\n",
    "t.fillcolor(\"red\")\n",
    "t.begin_fill()\n",
    "t.circle(50,180)\n",
    "t.end_fill()\n",
    "t.goto(0,100)\n",
    "t.pendown()\n",
    "t.rt(90)\n",
    "t.fd(5)\n",
    "t.lt(120)\n",
    "t.fd(7)\n",
    "t.penup()\n",
    "t.goto(60,150)\n",
    "t.pendown()\n",
    "t.fillcolor(\"white\")\n",
    "t.begin_fill()\n",
    "t.circle(20)\n",
    "t.end_fill()\n",
    "t.fillcolor(\"black\")\n",
    "t.begin_fill()\n",
    "t.circle(15)\n",
    "t.end_fill()\n",
    "t.penup()\n",
    "t.goto(-30,150)\n",
    "t.pendown()\n",
    "t.fillcolor(\"white\")\n",
    "t.begin_fill()\n",
    "t.circle(20)\n",
    "t.end_fill()\n",
    "t.fillcolor(\"black\")\n",
    "t.begin_fill()\n",
    "t.circle(15)\n",
    "t.end_fill()\n",
    "\n",
    "\n"
   ]
  },
  {
   "cell_type": "code",
   "execution_count": 33,
   "id": "d36e192d",
   "metadata": {},
   "outputs": [
    {
     "name": "stdout",
     "output_type": "stream",
     "text": [
      "68.0\n"
     ]
    }
   ],
   "source": [
    "#C->F\n",
    "C = 20\n",
    "F=(C*1.8+32)\n",
    "print(F)"
   ]
  },
  {
   "cell_type": "code",
   "execution_count": 36,
   "id": "eb1fc804",
   "metadata": {},
   "outputs": [
    {
     "name": "stdout",
     "output_type": "stream",
     "text": [
      "Nhập độ dài cạnh a: 7\n",
      "Nhập độ dài cạnh b: 8\n",
      "Nhập độ dài cạnh c: 10\n",
      "27.810744326608734\n"
     ]
    }
   ],
   "source": [
    "#S_triangle\n",
    "import math\n",
    "a = float(input(\"Nhập độ dài cạnh a: \"))\n",
    "b = float(input(\"Nhập độ dài cạnh b: \"))\n",
    "c = float(input(\"Nhập độ dài cạnh c: \"))\n",
    "p = (a+b+c)/2\n",
    "s = math.sqrt(p*(p-a)*(p-b)*(p-c))\n",
    "print(s)\n"
   ]
  },
  {
   "cell_type": "code",
   "execution_count": null,
   "id": "f8f35aac",
   "metadata": {},
   "outputs": [],
   "source": []
  }
 ],
 "metadata": {
  "kernelspec": {
   "display_name": "Python 3 (ipykernel)",
   "language": "python",
   "name": "python3"
  },
  "language_info": {
   "codemirror_mode": {
    "name": "ipython",
    "version": 3
   },
   "file_extension": ".py",
   "mimetype": "text/x-python",
   "name": "python",
   "nbconvert_exporter": "python",
   "pygments_lexer": "ipython3",
   "version": "3.9.13"
  }
 },
 "nbformat": 4,
 "nbformat_minor": 5
}
